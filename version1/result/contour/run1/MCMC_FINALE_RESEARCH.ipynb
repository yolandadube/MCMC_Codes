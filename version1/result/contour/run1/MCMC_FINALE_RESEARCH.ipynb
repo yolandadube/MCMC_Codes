{
 "cells": [
  {
   "cell_type": "markdown",
   "id": "5530dab8-3ca2-4048-84dd-2762f353d25b",
   "metadata": {},
   "source": [
    "# MCMC Code\n",
    "## School Research Project\n",
    "### Written by Yolanda Dube"
   ]
  },
  {
   "cell_type": "code",
   "execution_count": null,
   "id": "1308e940-90c8-47c4-be26-0c361460bd53",
   "metadata": {},
   "outputs": [],
   "source": [
    "# Importing the necessary packages\n",
    "\n",
    "import emcee\n",
    "import latex\n",
    "import numpy as np\n",
    "from classy import Class\n",
    "import multiprocessing as mp\n",
    "from functools import partial\n",
    "import getdist.plots as gdplots\n",
    "import matplotlib.pyplot as plt\n",
    "import matplotlib.font_manager\n",
    "import matplotlib.pyplot as plt\n",
    "import matplotlib.colors as mpc\n",
    "from multiprocessing import Pool\n",
    "from scipy.integrate import quad\n",
    "import matplotlib.ticker as ticker\n",
    "from getdist import plots, MCSamples\n",
    "import matplotlib.patches as mpatches\n",
    "from matplotlib.patches import Ellipse\n",
    "from mpl_toolkits.mplot3d import Axes3D\n",
    "from matplotlib.ticker import LogLocator\n",
    "from scipy.interpolate import CubicSpline\n",
    "from matplotlib.ticker import LogFormatter\n",
    "from matplotlib.pyplot import rc, rcParams\n",
    "from matplotlib.ticker import AutoMinorLocator\n",
    "from matplotlib.ticker import FormatStrFormatter"
   ]
  },
  {
   "cell_type": "code",
   "execution_count": null,
   "id": "48ae9546-8346-4f05-a258-07e1d6ab28a5",
   "metadata": {},
   "outputs": [],
   "source": [
    "k_values = np.linspace(0.005, 0.030, 100)\n",
    "z_value = 0.75"
   ]
  },
  {
   "cell_type": "code",
   "execution_count": null,
   "id": "969b51f6-4d11-4e3c-aa12-71f902b3e225",
   "metadata": {},
   "outputs": [],
   "source": [
    "# Defining the Cosmological Parameters\n",
    "\n",
    "cosmo = Class()\n",
    "params = {\n",
    "    'output'      : 'mPk',                # Request matter power spectrum calculation\n",
    "    'omega_b'     : 0.0223828,            # Baryon density\n",
    "    'omega_cdm'   : 0.1201075,            # Cold Dark Matter density\n",
    "    'h'           : 0.6736,               # Hubble parameter\n",
    "    'A_s'         : 2.1e-9,               # Amplitude of primordial power spectrum\n",
    "    'n_s'         : 0.9665,               # Spectral index of primordial power spectrum\n",
    "    'tau_reio'    : 0.0543,               # Optical depth to reionization\n",
    "    'Omega_Lambda': 0.6825,               # Present-day density parameter for dark energy\n",
    "    'Omega_k'     : 0.0,                  # Present-day density parameter for curvature\n",
    "    'z_max_pk'    : z_value,                 # Maximum redshift for storing power spectrum\n",
    "}\n",
    "\n",
    "cosmo.set(params)"
   ]
  },
  {
   "cell_type": "code",
   "execution_count": null,
   "id": "0a91cddf-45f2-4efc-9323-d7c702548728",
   "metadata": {},
   "outputs": [],
   "source": [
    "# Defining the Survey Parameters\n",
    "\n",
    "survey_params = [\n",
    "    {\n",
    "        \"name\"    : \"MeerKLASS L-band\",\n",
    "        \"V_survey\": 1.3e9,\n",
    "        \"f_sky\"   : 0.10,\n",
    "        \"nu_min\"  : 900.0,\n",
    "        \"nu_max\"  : 1185.0,\n",
    "        \"t_obs\"   : 4000.0,\n",
    "        \"N_dish\"  : 64,\n",
    "        \"k_min\"   : 3.3\n",
    "    },\n",
    "    {\n",
    "        \"name\"    : \"MeerKLASS UHF-band\",\n",
    "        \"V_survey\": 10.8e9,\n",
    "        \"f_sky\"   : 0.10,\n",
    "        \"nu_min\"  : 580.0,\n",
    "        \"nu_max\"  : 1000.0,\n",
    "        \"t_obs\"   : 4000.0,\n",
    "        \"N_dish\"  : 64,\n",
    "        \"k_min\"   : 1.6\n",
    "    },\n",
    "    {\n",
    "        \"name\"    : \"SKA-MID Band 1\",\n",
    "        \"V_survey\": 221.6e9,\n",
    "        \"f_sky\"   : 0.48,\n",
    "        \"nu_min\"  : 350.0,\n",
    "        \"nu_max\"  : 1050.0,\n",
    "        \"t_obs\"   : 20000.0,\n",
    "        \"N_dish\"  : 197,\n",
    "        \"k_min\"   : 0.53\n",
    "    },\n",
    "]"
   ]
  },
  {
   "cell_type": "code",
   "execution_count": null,
   "id": "bbb7de53-b55b-496e-8620-0690cba11c34",
   "metadata": {},
   "outputs": [],
   "source": []
  },
  {
   "cell_type": "code",
   "execution_count": null,
   "id": "40cb39f3-ad6d-4569-b562-c525a0fd38d3",
   "metadata": {},
   "outputs": [],
   "source": [
    "# The HI-LIne Brightness Temperature\n",
    "\n",
    "def T_HI(z):\n",
    "    cosmo.compute()\n",
    "    Omega_HI = 0.00048 + 0.00039*z - 0.000065*z**2\n",
    "    h_Hubble = cosmo.h()\n",
    "    H_z = cosmo.Hubble(z)/2997.92\n",
    "    H_0 = cosmo.Hubble(0)/2997.92\n",
    "    T_HI = ((180*Omega_HI*h_Hubble*(1+z)**2)/(H_z/H_0))*(1e-3) # Converting to Kelvins\n",
    "    return T_HI"
   ]
  },
  {
   "cell_type": "code",
   "execution_count": null,
   "id": "462931d4-df31-4eac-a3e3-9c8f8a64aa31",
   "metadata": {},
   "outputs": [],
   "source": [
    "# The Linear Bias\n",
    "\n",
    "def b_HI(z):\n",
    "    b_HI = 0.842 + 0.693*z - 0.046*z**2\n",
    "    return b_HI"
   ]
  },
  {
   "cell_type": "code",
   "execution_count": null,
   "id": "62571361-c5b6-460d-9696-093a3b6178a9",
   "metadata": {},
   "outputs": [],
   "source": [
    "# The comoving distance\n",
    "\n",
    "def chi(z):\n",
    "        cosmo.compute()\n",
    "        chi, _ = quad(lambda x: 1 / (cosmo.Hubble(x)/2997.92) , 0, z)\n",
    "        return chi"
   ]
  },
  {
   "cell_type": "code",
   "execution_count": null,
   "id": "6c677ab0-f46f-4e2c-b998-8a953a303b57",
   "metadata": {},
   "outputs": [],
   "source": [
    "# Lambda(z) \n",
    "\n",
    "def lambda_z(z):\n",
    "        return (0.21/3.0857e22) * (1 + z)"
   ]
  },
  {
   "cell_type": "code",
   "execution_count": null,
   "id": "42d15a1d-8d1b-47df-b199-4f5b586e1e2f",
   "metadata": {},
   "outputs": [],
   "source": [
    "# The growth rate f(z) \n",
    "\n",
    "def growth_rate(z):\n",
    "    cosmo.compute()\n",
    "    a = 1.0 / (1.0 + z)\n",
    "    H = cosmo.Hubble(z)/2997.92  # Hubble parameter at redshift z\n",
    "    # We Compute the growth factor D at redshift z\n",
    "    D = cosmo.scale_independent_growth_factor(z)\n",
    "    # Compute the derivative of D with respect to the scale factor a\n",
    "    # This can be done numerically using a small delta_a\n",
    "    delta_a = 1e-5\n",
    "    D_plus = cosmo.scale_independent_growth_factor(1.0 / (a + delta_a) - 1.0)\n",
    "    dD_da = (D_plus - D) / delta_a\n",
    "    # We Calculate the growth rate f Using\n",
    "    f = (a / D) * dD_da\n",
    "    return f"
   ]
  },
  {
   "cell_type": "code",
   "execution_count": null,
   "id": "1ae16d33-822c-43a3-a66a-89ab481837a2",
   "metadata": {},
   "outputs": [],
   "source": [
    "# The HI Power Spectrum : Not marginalized over mu\n",
    "\n",
    "def P_HI(k, mu, z):\n",
    "    cosmo.compute()\n",
    "    f = cosmo.scale_independent_growth_factor(z)\n",
    "    P_HI =  T_HI(z)**2 *(b_HI(z) + growth_rate(z)*mu**2)**2 * cosmo.pk(k,z)\n",
    "    return P_HI"
   ]
  },
  {
   "cell_type": "code",
   "execution_count": null,
   "id": "02fa21ba-2a6e-4628-bded-fa0bddbde954",
   "metadata": {},
   "outputs": [],
   "source": [
    "# The Beam Factor \n",
    "\n",
    "def D_b(k, mu, z):\n",
    "    #D_dish = survey[\"D_dish\"]\n",
    "    cosmo.compute()\n",
    "    chi, _ = quad(lambda x: 1 / cosmo.Hubble(x), 0, z)\n",
    "    Theta_b = lambda z: 1.22 * (0.21/3.085e22) * (1 + z) / 13.5\n",
    "    D_b = np.exp(-((1 - mu ** 2) * k ** 2 * chi ** 2 * Theta_b(z) ** 2) / (16 * np.log(2)))\n",
    "    return D_b"
   ]
  },
  {
   "cell_type": "code",
   "execution_count": null,
   "id": "d826e0b5-a460-4cfa-be71-896ae34e8884",
   "metadata": {},
   "outputs": [],
   "source": [
    "# The Foreground Factor\n",
    "\n",
    "def D_fg(k, mu, z, k_para_fg):\n",
    "    D_fg = 1 - np.exp(-(mu * k / k_para_fg) ** 2)\n",
    "    return D_fg"
   ]
  },
  {
   "cell_type": "code",
   "execution_count": null,
   "id": "08ba8124-31d6-4807-8d88-d3ec8aceee09",
   "metadata": {},
   "outputs": [],
   "source": [
    "# The marginalized power spectrum \n",
    "\n",
    "def P_HI_kz(k,z):\n",
    "    P_HI_kz_values = np.zeros_like(k)\n",
    "    for i, k_value in enumerate(k):\n",
    "        P_HI_kz_value, _ = quad(lambda mu: P_HI(k_value, mu, z)*D_fg(k_value, mu, z, 0.001)*D_b(k_value, mu, z), -1, 1)\n",
    "        P_HI_kz_values[i] = P_HI_kz_value\n",
    "    return P_HI_kz_values"
   ]
  },
  {
   "cell_type": "code",
   "execution_count": null,
   "id": "d2478269-0896-4958-a5e1-07ab32c6c4bc",
   "metadata": {},
   "outputs": [],
   "source": [
    "# Plotting the marginalized power spectrum \n",
    "\n",
    "y_values = P_HI_kz(k_values, z_value)\n",
    "plt.loglog(k_values, y_values)\n",
    "plt.show()"
   ]
  },
  {
   "cell_type": "code",
   "execution_count": null,
   "id": "c755f3e3-d239-4a2c-b7e9-95f427be6ad9",
   "metadata": {},
   "outputs": [],
   "source": [
    "# Thermal noise expression\n",
    "\n",
    "def calculate_noise_power(survey, k, z):\n",
    "    nu_min = survey[\"nu_min\"]\n",
    "    nu_max = survey[\"nu_max\"]\n",
    "    t_obs = survey[\"t_obs\"]\n",
    "    N_dish = survey[\"N_dish\"]\n",
    "    f_sky = survey[\"f_sky\"]\n",
    "\n",
    "    T_gal =lambda nu: 25.0 * (408.0 / nu) ** 2.75\n",
    "\n",
    "    T_rx = lambda nu: 7.5 + 10.0 * ((nu*1e3) - 0.75) ** 2\n",
    "        \n",
    "    T_gal_total, _ = quad(lambda nu: T_gal(nu) + T_rx(nu), nu_min, nu_max)    \n",
    "\n",
    "    T_sys = (3.0 + 2.73 + T_gal_total) \n",
    "\n",
    "    noise_power = (T_sys ** 2 * chi(z)**2 * (lambda_z(z) * 4 * np.pi * f_sky)/ ( 2.0 * N_dish * t_obs * 3600))\n",
    "\n",
    "    return noise_power"
   ]
  },
  {
   "cell_type": "code",
   "execution_count": null,
   "id": "40f103c7-cc12-408a-ac1e-fe0aa03c0409",
   "metadata": {},
   "outputs": [],
   "source": []
  },
  {
   "cell_type": "code",
   "execution_count": null,
   "id": "089551fd-c6b3-4d2d-a365-56a4c6bda774",
   "metadata": {},
   "outputs": [],
   "source": [
    "# Defining the fitting model\n",
    "\n",
    "def calculate_P_fit(k, P_0, m, n, k_T0):\n",
    "    x = np.log(k)/np.log(k_T0) - 1\n",
    "    P_fit = np.where(k < k_T0, P_0 ** (1 - m * x**2), P_0 ** (1 - n * x**2))\n",
    "    return P_fit"
   ]
  },
  {
   "cell_type": "code",
   "execution_count": null,
   "id": "7bafe7d3-079c-42cf-909f-669971b090f1",
   "metadata": {},
   "outputs": [],
   "source": [
    "# Plotting the fitting model\n",
    "\n",
    "P_0 = 3700\n",
    "m = 0.35\n",
    "n = 0.45\n",
    "k_T0 = 0.0167\n",
    "\n",
    "y1_values = calculate_P_fit(k_values, P_0, m, n, k_T0)\n",
    "plt.loglog(k_values, y1_values)\n",
    "plt.show()"
   ]
  },
  {
   "cell_type": "code",
   "execution_count": null,
   "id": "6772e38b-b69b-474a-bc2b-33bfbb8537af",
   "metadata": {},
   "outputs": [],
   "source": [
    "# Defining the N_modes function \n",
    "\n",
    "def N_modes(k, z, survey):\n",
    "    V_survey = survey[\"V_survey\"]\n",
    "    k_m = survey[\"k_min\"]\n",
    "    delta_k = 2 * k_m * 1e-3\n",
    "    N_modes = V_survey * (4 * np.pi * k ** 2 * delta_k) / (2 * np.pi) ** 3\n",
    "    return N_modes"
   ]
  },
  {
   "cell_type": "code",
   "execution_count": null,
   "id": "506610e4-928e-4d13-a1d3-7252dbfe7686",
   "metadata": {},
   "outputs": [],
   "source": [
    "# The error function\n",
    "\n",
    "def Error_PK(k_values, z, survey, theta):\n",
    "    m, n, P0, kT0 = theta\n",
    "    V_survey = survey[\"V_survey\"]\n",
    "    Errors = (calculate_P_fit(k_values, P0, m, n, kT0) + calculate_noise_power(survey, k_values, z)) / np.sqrt(N_modes(k_values, z, survey))\n",
    "    return Errors"
   ]
  },
  {
   "cell_type": "code",
   "execution_count": null,
   "id": "a58b9b44-6f09-4894-b246-a65430ba337c",
   "metadata": {},
   "outputs": [],
   "source": [
    "# Defining the Likelihood, the Priors and the Posterior distributions\n",
    "\n",
    "def log_likelihood(theta, k_values, z, survey):\n",
    "    m, n, P0, kT0 = theta\n",
    "    model_errors = Error_PK(k_values, z, survey, theta)\n",
    "    P_fit = calculate_P_fit(k_values, P0, m, n, kT0)\n",
    "    data = P_HI_kz(k_values,z) + calculate_noise_power(survey, k_values, z)\n",
    "    chi = P_fit - data\n",
    "    return -0.5 * np.sum((chi/model_errors) ** 2)\n",
    "\n",
    "def log_prior(theta):\n",
    "    m, n, P0, kT0 = theta\n",
    "    if 0 < m < 10 and 0 < n < 10 and 2e2 < P0 < 5e5 and 0.009 < kT0 < 0.35:\n",
    "        return 0.0\n",
    "    return -np.inf\n",
    "\n",
    "def log_probability(theta, k_values, z, survey):\n",
    "    lp = log_prior(theta)\n",
    "    if not np.isfinite(lp):\n",
    "        return -np.inf\n",
    "    return lp + log_likelihood(theta, k_values, z, survey)"
   ]
  },
  {
   "cell_type": "code",
   "execution_count": null,
   "id": "20fa8e6c-8c30-4baa-95bd-168a0c39aa35",
   "metadata": {},
   "outputs": [],
   "source": [
    "def scale_down_by_1e5(x, pos):\n",
    "    return f\"{x/1e5:.2f}\"\n",
    "\n",
    "def run_mcmc(params):\n",
    "    i, survey_info = params\n",
    "    pos = np.array([0.30, 0.85, 2.09e3, 0.015]) + 1e-4 * np.random.randn(35, 4)\n",
    "    nwalkers, ndim = pos.shape\n",
    "\n",
    "    with Pool() as pool:\n",
    "        sampler = emcee.EnsembleSampler(nwalkers, ndim, log_probability, args=(k_values, z_value, survey_info), pool=pool)\n",
    "        sampler.run_mcmc(pos, 3000, progress=True)\n",
    "\n",
    "    flat_samples = sampler.get_chain(discard=100, thin=15, flat=True)\n",
    "    samples_list.append(flat_samples)\n",
    "    gd_samples = MCSamples(samples=flat_samples, names=labels, labels=labels, label=legend_labels[i])\n",
    "    gd_samples_list.append(gd_samples)\n",
    "\n",
    "samples_list = []\n",
    "gd_samples_list = []cond\n",
    "labels = ['m', 'n', 'P0', 'kT0']\n",
    "legend_labels = [survey_info[\"name\"] for survey_info in survey_params]\n",
    "\n",
    "# Run MCMC in parallel\n",
    "with Pool() as pool:\n",
    "    pool.map(run_mcmc, enumerate(survey_params))\n",
    "\n",
    "g = plots.get_subplot_plotter()\n",
    "g.triangle_plot(gd_samples_list, filled=True)\n",
    "\n",
    "# Apply formatter to axis\n",
    "ax_x = g.subplots[-1, 2]\n",
    "ax_x.xaxis.set_major_formatter(ticker.FuncFormatter(scale_down_by_1e5))\n",
    "ax_y = g.subplots[2, 1]\n",
    "if ax_y is not None:\n",
    "    ax_y.yaxis.set_major_formatter(ticker.FuncFormatter(scale_down_by_1e5))\n",
    "else:\n",
    "    print(\"Subplot for P_0 on the y-axis not found.\")\n",
    "\n",
    "plt.savefig(\"The_Real_MCMC_Plot.pdf\", dpi=300)\n",
    "plt.savefig('triangle_plot_mcmc.svg', format='svg')\n",
    "plt.show()"
   ]
  },
  {
   "cell_type": "code",
   "execution_count": null,
   "id": "fc9fca97-bba4-40a3-9ce2-98e8874ca28c",
   "metadata": {},
   "outputs": [],
   "source": []
  }
 ],
 "metadata": {
  "kernelspec": {
   "display_name": "Python 3 (ipykernel)",
   "language": "python",
   "name": "python3"
  },
  "language_info": {
   "codemirror_mode": {
    "name": "ipython",
    "version": 3
   },
   "file_extension": ".py",
   "mimetype": "text/x-python",
   "name": "python",
   "nbconvert_exporter": "python",
   "pygments_lexer": "ipython3",
   "version": "3.8.19"
  }
 },
 "nbformat": 4,
 "nbformat_minor": 5
}
